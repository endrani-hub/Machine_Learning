{
 "cells": [
  {
   "cell_type": "code",
   "execution_count": 1,
   "metadata": {},
   "outputs": [
    {
     "name": "stdout",
     "output_type": "stream",
     "text": [
      "[[5. 9. 1. 9.]\n",
      " [3. 4. 8. 4.]\n",
      " [5. 0. 7. 5.]]\n",
      "\n",
      "(3, 4)\n"
     ]
    }
   ],
   "source": [
    "\n",
    "import numpy as np\n",
    "rg = np.random.default_rng(1)\n",
    "a = np.floor(10 * rg.random((3, 4)))\n",
    "print(a)\n",
    "print()\n",
    "print(a.shape)"
   ]
  },
  {
   "cell_type": "code",
   "execution_count": 2,
   "metadata": {},
   "outputs": [
    {
     "name": "stdout",
     "output_type": "stream",
     "text": [
      "[5. 9. 1. 9. 3. 4. 8. 4. 5. 0. 7. 5.]\n",
      "[[5. 9.]\n",
      " [1. 9.]\n",
      " [3. 4.]\n",
      " [8. 4.]\n",
      " [5. 0.]\n",
      " [7. 5.]]\n",
      "\n",
      "[[5. 3. 5.]\n",
      " [9. 4. 0.]\n",
      " [1. 8. 7.]\n",
      " [9. 4. 5.]]\n",
      "Transpose shape:  (4, 3)\n",
      "Original shape:  (3, 4)\n"
     ]
    }
   ],
   "source": [
    "\n",
    "print(a.ravel()) \n",
    "print(a.reshape(6, 2)) \n",
    "print()\n",
    "print(a.T) \n",
    "print(\"Transpose shape: \", a.T.shape)\n",
    "print(\"Original shape: \", a.shape)"
   ]
  },
  {
   "cell_type": "code",
   "execution_count": 3,
   "metadata": {},
   "outputs": [
    {
     "name": "stdout",
     "output_type": "stream",
     "text": [
      "[[5. 9. 1. 9.]\n",
      " [3. 4. 8. 4.]\n",
      " [5. 0. 7. 5.]]\n",
      "[[5. 9. 1. 9. 3. 4.]\n",
      " [8. 4. 5. 0. 7. 5.]]\n"
     ]
    }
   ],
   "source": [
    "print(a)\n",
    "a.resize((2, 6))\n",
    "print(a)"
   ]
  },
  {
   "cell_type": "code",
   "execution_count": 4,
   "metadata": {},
   "outputs": [
    {
     "data": {
      "text/plain": [
       "array([[5., 9., 1., 9.],\n",
       "       [3., 4., 8., 4.],\n",
       "       [5., 0., 7., 5.]])"
      ]
     },
     "execution_count": 4,
     "metadata": {},
     "output_type": "execute_result"
    }
   ],
   "source": [
    "a.reshape(3, -1)"
   ]
  },
  {
   "cell_type": "code",
   "execution_count": 5,
   "metadata": {},
   "outputs": [
    {
     "name": "stdout",
     "output_type": "stream",
     "text": [
      "[[3. 7.]\n",
      " [3. 4.]]\n",
      "\n",
      "[[1. 4.]\n",
      " [2. 2.]]\n",
      "\n",
      "[[3. 7.]\n",
      " [3. 4.]\n",
      " [1. 4.]\n",
      " [2. 2.]]\n",
      "\n",
      "[[3. 7. 1. 4.]\n",
      " [3. 4. 2. 2.]]\n"
     ]
    }
   ],
   "source": [
    "a = np.floor(10 * rg.random((2, 2)))\n",
    "print(a)\n",
    "print()\n",
    "b = np.floor(10 * rg.random((2, 2)))\n",
    "print(b)\n",
    "print()\n",
    "print(np.vstack((a, b))) \n",
    "print()\n",
    "print(np.hstack((a, b)))"
   ]
  },
  {
   "cell_type": "code",
   "execution_count": 6,
   "metadata": {},
   "outputs": [
    {
     "name": "stdout",
     "output_type": "stream",
     "text": [
      "[[3. 7. 1. 4.]\n",
      " [3. 4. 2. 2.]]\n",
      "\n",
      "[[4. 3.]\n",
      " [2. 8.]]\n",
      "\n",
      "[4. 2. 3. 8.]\n",
      "\n",
      "[[4.]\n",
      " [2.]]\n",
      "\n",
      "[[4. 3.]\n",
      " [2. 8.]]\n",
      "\n",
      "[[4. 3.]\n",
      " [2. 8.]]\n"
     ]
    }
   ],
   "source": [
    "from numpy import newaxis\n",
    "print(np.column_stack((a, b)))  \n",
    "print()\n",
    "a = np.array([4., 2.])\n",
    "b = np.array([3., 8.])\n",
    "print(np.column_stack((a, b))) \n",
    "print()\n",
    "print(np.hstack((a, b)))       \n",
    "print()\n",
    "print(a[:, newaxis])           \n",
    "print()\n",
    "print(np.column_stack((a[:, newaxis], b[:, newaxis])))\n",
    "print()\n",
    "print(np.hstack((a[:, newaxis], b[:, newaxis])))"
   ]
  },
  {
   "cell_type": "code",
   "execution_count": 7,
   "metadata": {},
   "outputs": [
    {
     "data": {
      "text/plain": [
       "False"
      ]
     },
     "execution_count": 7,
     "metadata": {},
     "output_type": "execute_result"
    }
   ],
   "source": [
    "np.column_stack is np.hstack"
   ]
  },
  {
   "cell_type": "code",
   "execution_count": 8,
   "metadata": {},
   "outputs": [
    {
     "data": {
      "text/plain": [
       "True"
      ]
     },
     "execution_count": 8,
     "metadata": {},
     "output_type": "execute_result"
    }
   ],
   "source": [
    "np.row_stack is np.vstack"
   ]
  },
  {
   "cell_type": "code",
   "execution_count": 9,
   "metadata": {},
   "outputs": [
    {
     "name": "stdout",
     "output_type": "stream",
     "text": [
      "[1 2 3 0 4]\n",
      "\n",
      "[[1 4]\n",
      " [2 5]\n",
      " [3 6]]\n"
     ]
    }
   ],
   "source": [
    "print(np.r_[1:4, 0, 4])\n",
    "print()\n",
    "print(np.c_[np.array([1,2,3]), np.array([4,5,6])])"
   ]
  },
  {
   "cell_type": "code",
   "execution_count": 10,
   "metadata": {},
   "outputs": [
    {
     "name": "stdout",
     "output_type": "stream",
     "text": [
      "[[7. 2. 4. 9. 9. 7. 5. 2. 1. 9. 5. 1.]\n",
      " [6. 7. 6. 9. 0. 5. 4. 0. 6. 8. 5. 2.]]\n",
      "\n",
      "[array([[7., 2., 4., 9.],\n",
      "       [6., 7., 6., 9.]]), array([[9., 7., 5., 2.],\n",
      "       [0., 5., 4., 0.]]), array([[1., 9., 5., 1.],\n",
      "       [6., 8., 5., 2.]])]\n",
      "\n",
      "[array([[7., 2., 4.],\n",
      "       [6., 7., 6.]]), array([[9.],\n",
      "       [9.]]), array([[9., 7., 5., 2., 1., 9., 5., 1.],\n",
      "       [0., 5., 4., 0., 6., 8., 5., 2.]])]\n"
     ]
    }
   ],
   "source": [
    "a = np.floor(10 * rg.random((2, 12)))\n",
    "print(a)\n",
    "print()\n",
    "print(np.hsplit(a, 3)) \n",
    "print()\n",
    "print(np.hsplit(a, (3, 4)))"
   ]
  },
  {
   "cell_type": "code",
   "execution_count": 11,
   "metadata": {},
   "outputs": [
    {
     "name": "stdout",
     "output_type": "stream",
     "text": [
      "True\n"
     ]
    }
   ],
   "source": [
    "a = np.array([[ 0,  1,  2,  3], [ 4,  5,  6,  7], [ 8,  9, 10, 11]])\n",
    "b = a\n",
    "print(b is a)"
   ]
  },
  {
   "cell_type": "code",
   "execution_count": 12,
   "metadata": {},
   "outputs": [
    {
     "name": "stdout",
     "output_type": "stream",
     "text": [
      "1479352939664\n",
      "1479352939664\n"
     ]
    }
   ],
   "source": [
    "def f(x):\n",
    "  print(id(x))\n",
    "print(id(a)) \n",
    "f(a)"
   ]
  },
  {
   "cell_type": "code",
   "execution_count": 13,
   "metadata": {},
   "outputs": [
    {
     "name": "stdout",
     "output_type": "stream",
     "text": [
      "[[ 0  1  2  3]\n",
      " [ 4  5  6  7]\n",
      " [ 8  9 10 11]]\n",
      "\n",
      "False\n",
      "\n",
      "True\n",
      "\n",
      "False\n",
      "\n",
      "(2, 6)\n",
      "\n",
      "(3, 4)\n",
      "[[   0    1    2    3]\n",
      " [1234    5    6    7]\n",
      " [   8    9   10   11]]\n"
     ]
    }
   ],
   "source": [
    "c = a.view()\n",
    "print(c)\n",
    "print()\n",
    "print(c is a)\n",
    "print()\n",
    "print(c.base is a)\n",
    "print()\n",
    "print(c.flags.owndata)\n",
    "print()\n",
    "c = c.reshape((2, 6))\n",
    "print(c.shape)\n",
    "print()\n",
    "print(a.shape)\n",
    "c[0, 4] = 1234\n",
    "print(a)"
   ]
  },
  {
   "cell_type": "code",
   "execution_count": 18,
   "metadata": {},
   "outputs": [
    {
     "name": "stdout",
     "output_type": "stream",
     "text": [
      "[[10 10]\n",
      " [10 10]\n",
      " [10 10]]\n",
      "\n",
      "[[   0   10   10    3]\n",
      " [1234   10   10    7]\n",
      " [   8   10   10   11]]\n"
     ]
    }
   ],
   "source": [
    "s = a[:, 1:3]\n",
    "print(s)\n",
    "print()\n",
    "s[:] = 10  \n",
    "print(a)"
   ]
  },
  {
   "cell_type": "code",
   "execution_count": 19,
   "metadata": {},
   "outputs": [
    {
     "name": "stdout",
     "output_type": "stream",
     "text": [
      "False\n",
      "\n",
      "False\n",
      "\n",
      "[[   0   10   10    3]\n",
      " [1234   10   10    7]\n",
      " [   8   10   10   11]]\n"
     ]
    }
   ],
   "source": [
    "d = a.copy()  \n",
    "print(d is a)\n",
    "print()\n",
    "print(d.base is a) \n",
    "print()\n",
    "d[0, 0] = 9999\n",
    "print(a)"
   ]
  },
  {
   "cell_type": "code",
   "execution_count": 20,
   "metadata": {},
   "outputs": [],
   "source": [
    "a = np.arange(int(1e8))\n",
    "b = a[:100].copy()\n",
    "del a"
   ]
  }
 ],
 "metadata": {
  "kernelspec": {
   "display_name": "Python 3",
   "language": "python",
   "name": "python3"
  },
  "language_info": {
   "codemirror_mode": {
    "name": "ipython",
    "version": 3
   },
   "file_extension": ".py",
   "mimetype": "text/x-python",
   "name": "python",
   "nbconvert_exporter": "python",
   "pygments_lexer": "ipython3",
   "version": "3.7.4"
  }
 },
 "nbformat": 4,
 "nbformat_minor": 4
}
